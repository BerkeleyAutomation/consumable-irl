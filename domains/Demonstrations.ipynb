{
 "cells": [
  {
   "cell_type": "code",
   "execution_count": 1,
   "metadata": {
    "collapsed": false
   },
   "outputs": [
    {
     "data": {
      "text/plain": [
       "(array([ 0.,  0.,  0.,  0.,  0.]), True, array([0, 1, 2, 3, 4, 5, 6, 7, 8]))"
      ]
     },
     "execution_count": 1,
     "metadata": {},
     "output_type": "execute_result"
    }
   ],
   "source": [
    "from RCIRL import RCIRL\n",
    "import numpy as np\n",
    "% matplotlib inline\n",
    "\n",
    "y = RCIRL([])\n",
    "y.s0()"
   ]
  },
  {
   "cell_type": "code",
   "execution_count": 2,
   "metadata": {
    "collapsed": false
   },
   "outputs": [
    {
     "data": {
      "text/plain": [
       "<matplotlib.figure.Figure at 0x10392b190>"
      ]
     },
     "metadata": {},
     "output_type": "display_data"
    },
    {
     "data": {
      "image/png": "[encoded data removed]",
      "text/plain": [
       "<matplotlib.figure.Figure at 0x103909990>"
      ]
     },
     "metadata": {},
     "output_type": "display_data"
    }
   ],
   "source": [
    "y.visualize_trajectory()"
   ]
  },
  {
   "cell_type": "code",
   "execution_count": 12,
   "metadata": {
    "collapsed": false
   },
   "outputs": [
    {
     "data": {
      "text/plain": [
       "<matplotlib.figure.Figure at 0x12f644e10>"
      ]
     },
     "metadata": {},
     "output_type": "display_data"
    },
    {
     "data": {
      "image/png": "[encoded data removed]",
      "text/plain": [
       "<matplotlib.figure.Figure at 0x12c3934d0>"
      ]
     },
     "metadata": {},
     "output_type": "display_data"
    }
   ],
   "source": [
    "traj = [(0.073894947640972958, -0.16239925433149047, -0.30247932146303796), \n",
    "        (0.53712788399618117, -0.81607849894710394, 0.16573800050712573), \n",
    "        (-0.54448351512128323, 0.98204320760553687, -0.60619766826558374), \n",
    "        (-0.11540549743043645, 0.23171823981663686, 1.3446808145658031), \n",
    "        (-0.69000505432048487, 0.86933310921978879, -1.9019581028207819), \n",
    "        (0.92077006389405747, -1.3635215404400574, -0.93758205728291999), \n",
    "        (-0.23866226339737637, -0.32147407222288238, -0.70742529860626358),\n",
    "        (-0.001430526717396243, 0.28111010507135326, 2.4995225939898167), \n",
    "        (-0.92559503545461408, 1.8783433943336179, -0.11508573282170742)]\n",
    "\n",
    "cartraj =[[0.0, 0.0, -0.03, 0.0],\n",
    " [-0.01, 0.0, -0.06, 0.02],\n",
    " [-0.03, -0.0, -0.09, 0.05],\n",
    " [-0.05, -0.0, -0.12, 0.1],\n",
    " [-0.09, -0.01, -0.15, 0.17],\n",
    " [-0.13, -0.01, -0.18, 0.26],\n",
    " [-0.19, -0.03, -0.21, 0.16],\n",
    " [-0.25, -0.04, -0.24, 0.03],\n",
    " [-0.32, -0.04, -0.27, -0.1],\n",
    " [-0.4, -0.03, -0.3, -0.26],\n",
    " [-0.49, -0.01, -0.3, -0.43],\n",
    " [-0.57, 0.03, -0.3, -0.61],\n",
    " [-0.64, 0.08, -0.3, -0.78],\n",
    " [-0.71, 0.14, -0.27, -0.95],\n",
    " [-0.75, 0.21, -0.24, -1.11],\n",
    " [-0.79, 0.27, -0.21, -1.25],\n",
    " [-0.81, 0.33, -0.18, -1.37],\n",
    " [-0.82, 0.39, -0.15, -1.47],\n",
    " [-0.82, 0.43, -0.12, -1.56]]\n",
    "# n is length of trajectory\n",
    "y.visualize_trajectory(cartraj[::3]) #, alphafn= lambda i, n: (0.7 * np.exp(-(n- 2 - i))) if i < n - 1 else 1)"
   ]
  },
  {
   "cell_type": "code",
   "execution_count": null,
   "metadata": {
    "collapsed": false
   },
   "outputs": [],
   "source": [
    "import numpy as np\n",
    "import matplotlib.pyplot as plt\n",
    "import matplotlib.transforms as mtransforms\n",
    "import matplotlib.cbook as cbook\n",
    "\n",
    "N = 7\n",
    "x = np.linspace(0, 1, N)\n",
    "y = x**1.1\n",
    "heading = np.linspace(10, 90, N)\n",
    "trajectory = zip(x, y, heading)\n",
    "\n",
    "def get_image():\n",
    "    fn = \"prius.png\" # cbook.get_sample_data(\"necked_tensile_specimen.png\")\n",
    "    arr = plt.imread(fn)\n",
    "    # make background transparent\n",
    "    # you won't have to do this if your car image already has a transparent background\n",
    "    mask = (arr == (1,1,1,1)).all(axis=-1)\n",
    "    arr[mask] = 0\n",
    "    return arr\n",
    "\n",
    "def imshow_affine(ax, z, *args, **kwargs):\n",
    "    im = ax.imshow(z, *args, **kwargs)\n",
    "    x1, x2, y1, y2 = im.get_extent()\n",
    "    im._image_skew_coordinate = (x2, y1)\n",
    "    return im\n",
    "\n",
    "length, width = 0.3, 0.15\n",
    "car = get_image()\n",
    "fig, ax = plt.subplots()\n",
    "for i, t in enumerate(trajectory, start=1):\n",
    "    xi, yi, deg = t\n",
    "    im = imshow_affine(ax, car, interpolation='none',\n",
    "                       extent=[0, length, 0, width], clip_on=True,\n",
    "                       alpha=0.8*i/len(trajectory))\n",
    "    center_x, center_y = length//2, width//2\n",
    "    im_trans = (mtransforms.Affine2D()\n",
    "                .rotate_deg_around(center_x, center_y, deg)\n",
    "                .translate(xi, yi)\n",
    "                + ax.transData)\n",
    "    im.set_transform(im_trans)\n",
    "\n",
    "ax.set_xlim(-0.5, 1.5)\n",
    "ax.set_ylim(-0.5, 1.7)\n",
    "plt.show()"
   ]
  },
  {
   "cell_type": "code",
   "execution_count": null,
   "metadata": {
    "collapsed": true
   },
   "outputs": [],
   "source": []
  }
 ],
 "metadata": {
  "kernelspec": {
   "display_name": "Python 2",
   "language": "python",
   "name": "python2"
  },
  "language_info": {
   "codemirror_mode": {
    "name": "ipython",
    "version": 2
   },
   "file_extension": ".py",
   "mimetype": "text/x-python",
   "name": "python",
   "nbconvert_exporter": "python",
   "pygments_lexer": "ipython2",
   "version": "2.7.11"
  }
 },
 "nbformat": 4,
 "nbformat_minor": 0
}
